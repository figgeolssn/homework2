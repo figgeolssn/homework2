{
 "cells": [
  {
   "cell_type": "markdown",
   "id": "a918f196-3b32-4023-8d21-197288b838ac",
   "metadata": {},
   "source": [
    "## Task 1"
   ]
  },
  {
   "cell_type": "code",
   "execution_count": null,
   "id": "739e656c-2b7e-4e29-b229-ae83e0693fd9",
   "metadata": {},
   "outputs": [],
   "source": [
    "import numpy as np\n",
    "import matplotlib.pyplot as plt\n",
    "\n",
    "## TASK 1\n",
    "\n",
    "class Interval:\n",
    "    def __init__(self, left, right):\n",
    "        \"\"\"Initialize the Interval with left and right endpoints.\n",
    "\n",
    "        Args:\n",
    "        left (float): The left endpoint of the interval.\n",
    "        right (float): The right endpoint of the interval.\n",
    "\n",
    "        Raises:\n",
    "        ValueError: If the left endpoint is greater than the right endpoint.\n",
    "        \"\"\"\n",
    "        if left > right:\n",
    "            raise ValueError(\"Left endpoint must not be greater than right endpoint.\")\n",
    "        \n",
    "        self.left = left\n",
    "        self.right = right\n",
    "\n",
    "    def __repr__(self):\n",
    "        \"\"\"Return a string representation of the Interval.\"\"\"\n",
    "        return f\"Interval({self.left}, {self.right})\"\n",
    "    \n",
    "    def __str__(self):\n",
    "        \"\"\"Return a human-readable string representation of the Interval.\"\"\"\n",
    "        return f\"[{self.left}, {self.right}]\"\n",
    "\n",
    "    def contains(self, number):\n",
    "        \"\"\"Check if the interval contains the given number.\n",
    "\n",
    "        Args:\n",
    "        number (float): The number to check.\n",
    "\n",
    "        Returns:\n",
    "        bool: True if the number is within the interval, False otherwise.\n",
    "        \"\"\"\n",
    "        return self.left <= number <= self.right\n",
    "    \n",
    "    # Example Test\n",
    "interval = Interval(1, 5)\n",
    "print(interval)  # Output: [1, 5]\n",
    "print(repr(interval))  # Output: Interval(1, 5)\n",
    "\n",
    "# Check if a number is within the interval\n",
    "print(interval.contains(3))  # Output: True\n",
    "print(interval.contains(0))  # Output: False\n",
    "print(interval.contains(5))  # Output: True\n"
   ]
  },
  {
   "cell_type": "markdown",
   "id": "3374b3a9-49fc-455d-bd84-463d100a98f7",
   "metadata": {},
   "source": [
    "## Task 2"
   ]
  },
  {
   "cell_type": "code",
   "execution_count": null,
   "id": "e0ba2b5e-6387-49a3-bbc1-8c520f9ae553",
   "metadata": {},
   "outputs": [],
   "source": [
    "## TASK 2\n",
    "\n",
    "def __add__(self, other):\n",
    "        if not isinstance(other, Interval):\n",
    "            raise ValueError(\"Operand must be an Interval.\")\n",
    "        return Interval(self.left + other.left, self.right + other.right)\n",
    "    ## Directly adds the corresponding endpoints of each interval\n",
    "\n",
    "def __sub__(self, other):\n",
    "        if not isinstance(other, Interval):\n",
    "            raise ValueError(\"Operand must be an Interval.\")\n",
    "        return Interval(self.left - other.right, self.right - other.left)\n",
    "    ## Subtracts the lower endpoint of the first interval from the upper endpoint of the second interval for the new lower bound\n",
    "    ## Subtracts the upper endpoint of the first interval from the lower endpoint of the second interval for the new upper bound\n",
    "\n",
    "def __mul__(self, other):\n",
    "        if not isinstance(other, Interval):\n",
    "            raise ValueError(\"Operand must be an Interval.\")\n",
    "        products = [self.left * other.left, self.left * other.right,\n",
    "                    self.right * other.left, self.right * other.right]\n",
    "        return Interval(min(products), max(products))\n",
    "    ## Computes the product of each combination of endpoints from the two intervals and returns a new interval from the minimum and maximum of these products.\n",
    "\n",
    "def __truediv__(self, other):\n",
    "        if not isinstance(other, Interval):\n",
    "            raise ValueError(\"Operand must be an Interval.\")\n",
    "        if other.left <= 0 <= other.right:\n",
    "            raise ZeroDivisionError(\"Division by an interval containing zero is undefined.\")\n",
    "        divisions = [self.left / other.left, self.left / other.right,\n",
    "                     self.right / other.left, self.right / other.right]\n",
    "        return Interval(min(divisions), max(divisions))\n",
    "    ## Checks for division by zero within the interval (if zero is within the range of the denominator interval, division is undefined). \n",
    "    ## Computes all possible divisions of the endpoint combinations and uses the minimum and maximum for the new interval bounds."
   ]
  },
  {
   "cell_type": "markdown",
   "id": "8e2fc0cc-bd43-4dac-9314-8d2ccab9f8e8",
   "metadata": {},
   "source": [
    "## Task 3"
   ]
  },
  {
   "cell_type": "code",
   "execution_count": null,
   "id": "f7220a5d-a77c-4849-8aba-f352376345c5",
   "metadata": {},
   "outputs": [],
   "source": [
    "## Copy the method to Set Up Intervals from Task 1\n",
    "class Interval:\n",
    "    def __init__(self, left, right):\n",
    "        \"\"\"Initialize the Interval with left and right endpoints.\n",
    "\n",
    "        Args:\n",
    "            left (float): The left endpoint of the interval.\n",
    "            right (float): The right endpoint of the interval.\n",
    "\n",
    "        Raises:\n",
    "            ValueError: If the left endpoint is greater than right endpoint.\n",
    "        \"\"\"\n",
    "        if left > right:\n",
    "            raise ValueError(\"Left endpoint must not be greater than right endpoint.\")\n",
    "        self.left = left\n",
    "        self.right = right\n",
    "\n",
    "    def __repr__(self):\n",
    "        \"\"\"Return a string representation of the Interval that could be used to recreate it.\"\"\"\n",
    "        return f\"Interval({self.left}, {self.right})\"\n",
    "\n",
    "    def __str__(self):\n",
    "        \"\"\"Return a human-readable string representation of the Interval.\"\"\"\n",
    "        return f\"[{self.left}, {self.right}]\"\n",
    "    \n",
    "# Print the Given interval class [1,2]\n",
    "\n",
    "i = Interval(1, 2)\n",
    "print(i)"
   ]
  },
  {
   "cell_type": "markdown",
   "id": "e2aecad0-e698-448c-a360-00fe6be11e02",
   "metadata": {},
   "source": [
    "## Task 4"
   ]
  },
  {
   "cell_type": "code",
   "execution_count": 1,
   "id": "19081428-0712-49e1-93ce-06278beed595",
   "metadata": {},
   "outputs": [
    {
     "name": "stdout",
     "output_type": "stream",
     "text": [
      "I1 + I2 = [-1, 3]\n",
      "I1 - I2 = [2, 6]\n",
      "I1 * I2 = [-8, -1]\n",
      "I1 / I2 = [-4.0, -0.5]\n"
     ]
    }
   ],
   "source": [
    "## Alter the code to define the four arithmetic functions within the interval class\n",
    "\n",
    "class Interval:\n",
    "    def __init__(self, left, right):\n",
    "        if left > right:\n",
    "            raise ValueError(\"Left endpoint must not be greater than right endpoint.\")\n",
    "        self.left = left\n",
    "        self.right = right\n",
    "\n",
    "    def __repr__(self):\n",
    "        return f\"Interval({self.left}, {self.right})\"\n",
    "    \n",
    "    def __str__(self):\n",
    "        return f\"[{self.left}, {self.right}]\"\n",
    "\n",
    "    def __add__(self, other):\n",
    "        if not isinstance(other, Interval):\n",
    "            raise ValueError(\"Operand must be an Interval.\")\n",
    "        return Interval(self.left + other.left, self.right + other.right)\n",
    "\n",
    "    def __sub__(self, other):\n",
    "        if not isinstance(other, Interval):\n",
    "            raise ValueError(\"Operand must be an Interval.\")\n",
    "        return Interval(self.left - other.right, self.right - other.left)\n",
    "\n",
    "    def __mul__(self, other):\n",
    "        if not isinstance(other, Interval):\n",
    "            raise ValueError(\"Operand must be an Interval.\")\n",
    "        products = [self.left * other.left, self.left * other.right,\n",
    "                    self.right * other.left, self.right * other.right]\n",
    "        return Interval(min(products), max(products))\n",
    "\n",
    "    def __truediv__(self, other):\n",
    "        if not isinstance(other, Interval):\n",
    "            raise ValueError(\"Operand must be an Interval.\")\n",
    "        if other.left <= 0 <= other.right:\n",
    "            raise ZeroDivisionError(\"Division by an interval containing zero is undefined.\")\n",
    "        divisions = [self.left / other.left, self.left / other.right,\n",
    "                     self.right / other.left, self.right / other.right]\n",
    "        return Interval(min(divisions), max(divisions))\n",
    "\n",
    "    \n",
    "## Test the class again after the changes \n",
    "    \n",
    "I1 = Interval(1, 4)\n",
    "I2 = Interval(-2, -1)\n",
    "\n",
    "print(\"I1 + I2 =\", I1 + I2)  # Expected: [-1, 3]\n",
    "print(\"I1 - I2 =\", I1 - I2)  # Expected: [2, 6]\n",
    "print(\"I1 * I2 =\", I1 * I2)  # Expected: [-8, -1]\n",
    "try:\n",
    "    print(\"I1 / I2 =\", I1 / I2)  # Expected: [-4, -0.5]\n",
    "except ZeroDivisionError as e:\n",
    "    print(\"Error:\", e)"
   ]
  },
  {
   "cell_type": "markdown",
   "id": "ca6a01de-19e7-4bc4-a051-31511d11ac1a",
   "metadata": {},
   "source": [
    "## Task 5"
   ]
  },
  {
   "cell_type": "code",
   "execution_count": null,
   "id": "908332b4-bd65-41ec-ae4f-ef7f0f4faea5",
   "metadata": {},
   "outputs": [],
   "source": []
  },
  {
   "cell_type": "markdown",
   "id": "4851c4ad-7d6f-4065-9d43-1e150052e179",
   "metadata": {},
   "source": [
    "## Task 6"
   ]
  },
  {
   "cell_type": "code",
   "execution_count": null,
   "id": "9ceda1fc-0509-41dd-9044-9879813a3dc2",
   "metadata": {},
   "outputs": [],
   "source": []
  },
  {
   "cell_type": "markdown",
   "id": "c6176b2b-5bac-4815-8a86-4aacacaf9591",
   "metadata": {},
   "source": [
    "## Task 7"
   ]
  },
  {
   "cell_type": "code",
   "execution_count": null,
   "id": "6999c021-0852-4326-973e-bcce432e5731",
   "metadata": {},
   "outputs": [],
   "source": []
  },
  {
   "cell_type": "markdown",
   "id": "970905ec-253b-40d5-bafd-72ca58e74d05",
   "metadata": {},
   "source": [
    "## Task 8"
   ]
  },
  {
   "cell_type": "code",
   "execution_count": null,
   "id": "ecd52c7a-402d-4225-9825-bb3291916171",
   "metadata": {},
   "outputs": [],
   "source": []
  },
  {
   "cell_type": "markdown",
   "id": "734a808c-e817-44e4-bdc1-de6c5766e83a",
   "metadata": {},
   "source": [
    "## Task 9"
   ]
  },
  {
   "cell_type": "code",
   "execution_count": null,
   "id": "a1af061c-f0ed-4167-a015-ae9a82efbd50",
   "metadata": {},
   "outputs": [],
   "source": []
  },
  {
   "cell_type": "markdown",
   "id": "0d5e3b59-fce9-4bec-87b8-57c8621cd435",
   "metadata": {},
   "source": [
    "## Task 10"
   ]
  },
  {
   "cell_type": "code",
   "execution_count": null,
   "id": "6e3b3c8f-520d-4046-a1e3-601d75e0c67b",
   "metadata": {},
   "outputs": [],
   "source": []
  }
 ],
 "metadata": {
  "kernelspec": {
   "display_name": "Python 3 (ipykernel)",
   "language": "python",
   "name": "python3"
  },
  "language_info": {
   "codemirror_mode": {
    "name": "ipython",
    "version": 3
   },
   "file_extension": ".py",
   "mimetype": "text/x-python",
   "name": "python",
   "nbconvert_exporter": "python",
   "pygments_lexer": "ipython3",
   "version": "3.11.7"
  }
 },
 "nbformat": 4,
 "nbformat_minor": 5
}
